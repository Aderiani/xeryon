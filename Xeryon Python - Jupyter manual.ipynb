{
 "cells": [
  {
   "cell_type": "markdown",
   "metadata": {},
   "source": [
    "# Xeryon: Python Library\n",
    "A quick overview of the Xeryon python library.\n",
    "\n",
    "## 1. Setup\n",
    "Note: the Xeryon.py file needs to be within the same folder.<br>\n",
    "Note: <a href=\"https://pypi.org/project/pyserial/\">pyserial</a> library is required. \"pip install pyserial\" (! This is different from \"pip install serial\") <br>\n",
    "The code below initializes the system."
   ]
  },
  {
   "cell_type": "code",
   "execution_count": 1,
   "metadata": {},
   "outputs": [],
   "source": [
    "from Xeryon import *\n",
    "controller  = Xeryon(\"COM16\", 115200)           # Setup serial communication\n",
    "axisX       = controller.addAxis(Stage.XLS_312, \"X\") # Add all axis and specify the correct stage.\n",
    "# This step above differs a bit from our instruction video.\n",
    "# Now you have to specifiy the axis-letter in the construction.\n",
    "# You can find your axis lettters in your config.txt files."
   ]
  },
  {
   "cell_type": "markdown",
   "metadata": {},
   "source": [
    "### Now the system can be started. <br>\n",
    "In closed loop: first run axis_.findIndex() so the stage can find its index."
   ]
  },
  {
   "cell_type": "code",
   "execution_count": 2,
   "metadata": {},
   "outputs": [
    {
     "name": "stdout",
     "output_type": "stream",
     "text": [
      "Thread started communication\n",
      "Searching index for axis X.\n",
      "\u001b[91mERROR: Index is not found, but stopped searching for index.\u001b[0m\n"
     ]
    }
   ],
   "source": [
    "controller.start()\n",
    "axisX.findIndex()\n",
    "# For multiaxis systems, it's possible to do this in a loop:\n",
    "# for axis in controller.getAllAxis():\n",
    "#    axis.findIndex()"
   ]
  },
  {
   "cell_type": "markdown",
   "metadata": {},
   "source": [
    "# 2. Basic Control\n",
    "This includes the functions: setDPOS(), getDPOS(), getEPOS(), step(), setUnits() <br>\n",
    "DPOS stands for 'Desired POSition', this is the position that the stage trys to reach. <br>\n",
    "EPOS stands for 'Encoder POSition', this value indicates the actual position of the stage.<br>"
   ]
  },
  {
   "cell_type": "code",
   "execution_count": null,
   "metadata": {},
   "outputs": [],
   "source": [
    "axisX.setUnits(Units.mm)\n",
    "axisX.setDPOS(5)\n",
    "axisX.setDPOS(-5)"
   ]
  },
  {
   "cell_type": "code",
   "execution_count": null,
   "metadata": {},
   "outputs": [],
   "source": [
    "axisX.setUnits(Units.mu)\n",
    "axisX.setDPOS(50)"
   ]
  },
  {
   "cell_type": "code",
   "execution_count": null,
   "metadata": {},
   "outputs": [],
   "source": [
    "print(axisX.getDPOS())\n",
    "print(axisX.getEPOS())"
   ]
  },
  {
   "cell_type": "code",
   "execution_count": null,
   "metadata": {},
   "outputs": [],
   "source": [
    "axisX.setUnits(Units.mm)\n",
    "axisX.setDPOS(0)\n",
    "for i in range(0,5):\n",
    "    axisX.step(1)    #Step 5x 1mm"
   ]
  },
  {
   "cell_type": "markdown",
   "metadata": {},
   "source": [
    "## 3. Speed control and scanning\n",
    "Scanning: continiously move with fixed speed"
   ]
  },
  {
   "cell_type": "code",
   "execution_count": null,
   "metadata": {},
   "outputs": [],
   "source": [
    "axisX.setDPOS(0)\n",
    "axisX.setUnits(Units.mm)\n",
    "axisX.setSpeed(1)      # The speed value is set in the current unit. So here it is 1 mm/s.\n",
    "axisX.startScan(-1)    # startScan() takes a negative or positive value."
   ]
  },
  {
   "cell_type": "code",
   "execution_count": null,
   "metadata": {},
   "outputs": [],
   "source": [
    "axisX.stopScan()\n",
    "axisX.setDPOS(0)      # Notice that the speed is still 1 mm/s."
   ]
  },
  {
   "cell_type": "code",
   "execution_count": null,
   "metadata": {},
   "outputs": [],
   "source": [
    "axisX.startScan(1, 2)  # It is also possible to scan for a certain amount of seconds."
   ]
  },
  {
   "cell_type": "markdown",
   "metadata": {},
   "source": [
    "## 4. Getting data back from the controller\n",
    "The status bits: (defined in the datasheet)"
   ]
  },
  {
   "cell_type": "code",
   "execution_count": null,
   "metadata": {},
   "outputs": [],
   "source": [
    "axisX.isForceZero()\n",
    "axisX.isMotorOn()\n",
    "axisX.isClosedLoop()\n",
    "axisX.isEncoderAtIndex()\n",
    "axisX.isEncoderValid()\n",
    "axisX.isSearchingIndex()\n",
    "axisX.isPositionReached()\n",
    "axisX.isEncoderError()\n",
    "axisX.isScanning()\n",
    "axisX.isAtLeftEnd()\n",
    "axisX.isAtRightEnd()\n",
    "axisX.isErrorLimit()\n",
    "axisX.isSearchingOptimalFrequency()"
   ]
  },
  {
   "cell_type": "markdown",
   "metadata": {},
   "source": [
    "It is also possible to log all incoming data.<br>\n",
    "The function endLogging() returns a dictionary of the format: <br>\n",
    "    { \"EPOS\": [..,..,..], <br>\n",
    "      \"DPOS\": [..,..,..],<br>\n",
    "      \"STAT\": [..,..,..],<br>\n",
    "    ...}<br>   "
   ]
  },
  {
   "cell_type": "code",
   "execution_count": null,
   "metadata": {},
   "outputs": [],
   "source": [
    "axisX.setUnits(Units.mm)\n",
    "axisX.setSpeed(50)\n",
    "axisX.setDPOS(0)\n",
    "axisX.setSpeed(120)\n",
    "axisX.startLogging()\n",
    "axisX.step(0.01)\n",
    "logs = axisX.endLogging()\n",
    "axisX.setSpeed(50)\n",
    "axisX.setDPOS(0)"
   ]
  },
  {
   "cell_type": "code",
   "execution_count": null,
   "metadata": {},
   "outputs": [],
   "source": [
    "from matplotlib import pyplot as plt\n",
    "%matplotlib inline\n",
    "unit_converted_epos = []\n",
    "for index in range(0, len(logs[\"EPOS\"])):\n",
    "    unit_converted_epos.append(axisX.convertEncoderUnitsToUnits(logs[\"EPOS\"][index], axisX.units))\n",
    "\n",
    "y = unit_converted_epos\n",
    "plt.plot(y)\n",
    "plt.ylabel('EPOS ('+str(axisX.units)+')')\n",
    "plt.xlabel(\"Sample\")\n",
    "plt.title(\"EPOS\")\n",
    "plt.show()"
   ]
  },
  {
   "cell_type": "code",
   "execution_count": null,
   "metadata": {},
   "outputs": [],
   "source": [
    "controller.stop()"
   ]
  }
 ],
 "metadata": {
  "kernelspec": {
   "display_name": "Python 3",
   "language": "python",
   "name": "python3"
  },
  "language_info": {
   "codemirror_mode": {
    "name": "ipython",
    "version": 3
   },
   "file_extension": ".py",
   "mimetype": "text/x-python",
   "name": "python",
   "nbconvert_exporter": "python",
   "pygments_lexer": "ipython3",
   "version": "3.7.1"
  }
 },
 "nbformat": 4,
 "nbformat_minor": 2
}
